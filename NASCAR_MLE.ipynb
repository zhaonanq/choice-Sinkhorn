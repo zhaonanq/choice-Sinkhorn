{
 "cells": [
  {
   "cell_type": "code",
   "execution_count": 1,
   "metadata": {
    "collapsed": true
   },
   "outputs": [],
   "source": [
    "import matplotlib.pyplot as plt\n",
    "import numpy as np\n",
    "import pandas as pd\n",
    "import time\n",
    "\n",
    "# import the two classes containing the algorithms\n",
    "import scaling\n",
    "import inference"
   ]
  },
  {
   "cell_type": "code",
   "execution_count": 2,
   "metadata": {
    "collapsed": true
   },
   "outputs": [],
   "source": [
    "# generate ranking data from NASCAR2002 dataset\n",
    "data = pd.read_csv('nascar2002.txt', sep=\" \")\n",
    "nb_items = max(data['DriverID'])\n",
    "num_race = max(data['Race'])\n",
    "rankings = ()\n",
    "for i in range(num_race):\n",
    "    race_id = i+1\n",
    "    race = data[data['Race']==race_id]\n",
    "    ranking = list(race['DriverID']-1)\n",
    "    rankings = rankings + (tuple(ranking),)"
   ]
  },
  {
   "cell_type": "code",
   "execution_count": 3,
   "metadata": {},
   "outputs": [
    {
     "name": "stdout",
     "output_type": "stream",
     "text": [
      "Scaling algorithm converged in  20 iterations and took  0.0030517578125 seconds.\n",
      "Iterative LSR algorithm converged in  13 iterations and took  0.22899818420410156 seconds.\n"
     ]
    }
   ],
   "source": [
    "# generate comparison matrix and winning count\n",
    "A, p = scaling.ranking_to_choice(nb_items,rankings)\n",
    "\n",
    "# MLE with scaling algorithm\n",
    "start = time.time()\n",
    "#A, p = scaling.ranking_to_choice(nb_items,rankings)\n",
    "scaling_strength, scaled_A, iterations,_ = scaling.iterative_scaling(A,p)\n",
    "end = time.time()\n",
    "print('Scaling algorithm converged in ',iterations, 'iterations and took ',end-start,'seconds.')\n",
    "\n",
    "# MLE with iterative LSR algorithm\n",
    "start = time.time()\n",
    "ilsr_strength, iterations,_ = inference.ilsr(nb_items,rankings)\n",
    "end = time.time()\n",
    "print('Iterative LSR algorithm converged in ',iterations, 'iterations and took ',end-start,'seconds.')\n",
    "\n",
    "#MLE with iterative LSR algorithm, convergence on log likelihood\n",
    "#start = time.time()\n",
    "#ilsr_strength = inference.ilsr(nb_items,rankings)\n",
    "#end = time.time()\n",
    "#print('Iterative LSR algorithm with log-likelihood convergence criterion converged in ',iterations, 'iterations and took ',end-start,'seconds.')"
   ]
  },
  {
   "cell_type": "code",
   "execution_count": 4,
   "metadata": {
    "scrolled": true
   },
   "outputs": [
    {
     "data": {
      "text/plain": [
       "array([-1.29186700e-12, -4.65072078e-11, -3.87560053e-11, -4.65071974e-11,\n",
       "       -2.58373422e-12, -4.13397615e-11, -9.04307011e-12, -2.58373422e-12,\n",
       "       -4.52153662e-11, -1.29186679e-12, -1.29186700e-12, -4.65071870e-11,\n",
       "       -4.65072182e-11, -4.52153349e-11, -1.29186722e-12, -9.04306924e-12,\n",
       "       -3.87560166e-12, -4.52153523e-11, -5.16746845e-12, -1.16268072e-11,\n",
       "       -9.04306838e-12, -1.29186700e-12, -1.29186705e-11, -1.29186700e-12,\n",
       "       -2.71292173e-11, -3.87560123e-12, -7.75120246e-12, -2.58373422e-12,\n",
       "       -1.29186700e-12, -1.29186711e-12, -4.65072182e-11, -4.65072078e-11,\n",
       "       -4.65072147e-11, -4.65072078e-11, -3.61722770e-11, -1.29186690e-12,\n",
       "       -4.65071939e-11, -4.39234690e-11, -4.00478609e-11, -1.29186700e-12,\n",
       "       -4.39234968e-11, -3.87560019e-11, -4.52153592e-11, -2.71292069e-11,\n",
       "       -4.52153384e-11, -2.58373444e-12, -2.58373422e-12, -4.65072182e-11,\n",
       "       -4.65071939e-11, -1.29186700e-12, -4.65071939e-11, -4.65071939e-11,\n",
       "       -4.65071974e-11, -1.29186700e-12, -4.52153523e-11, -2.45454698e-11,\n",
       "       -5.16746888e-12, -1.29186700e-12, -1.16268046e-11, -4.65072009e-11,\n",
       "       -4.65071974e-11, -4.65072182e-11, -1.29186700e-12, -1.29186711e-12,\n",
       "       -3.87560123e-12, -4.65072217e-11, -4.52153523e-11, -1.29186700e-12,\n",
       "       -3.87560123e-12, -7.75120246e-12, -2.45454733e-11, -3.48804007e-11,\n",
       "       -1.29186696e-11, -4.00479129e-11, -1.29186700e-12, -6.45933697e-12,\n",
       "       -4.65072009e-11, -2.58373422e-12, -2.97129404e-11, -1.29186690e-12,\n",
       "       -6.45933480e-12, -4.52153245e-11, -4.13397372e-11])"
      ]
     },
     "execution_count": 4,
     "metadata": {},
     "output_type": "execute_result"
    }
   ],
   "source": [
    "(m,n) = scaled_A.shape\n",
    "uniform = np.ones(m)/m\n",
    "np.dot(scaled_A.T,uniform)-p"
   ]
  },
  {
   "cell_type": "code",
   "execution_count": 5,
   "metadata": {},
   "outputs": [
    {
     "data": {
      "text/plain": [
       "array([1., 1., 1., ..., 1., 1., 1.])"
      ]
     },
     "execution_count": 5,
     "metadata": {},
     "output_type": "execute_result"
    }
   ],
   "source": [
    "np.sum(scaled_A,axis=1)"
   ]
  },
  {
   "cell_type": "code",
   "execution_count": 6,
   "metadata": {
    "scrolled": true
   },
   "outputs": [
    {
     "data": {
      "text/plain": [
       "array([0.00294544, 0.0134518 , 0.00903423, 0.01148513, 0.00632024,\n",
       "       0.00621403, 0.00647339, 0.00213965, 0.00608238, 0.0065    ,\n",
       "       0.00189386, 0.0137903 , 0.01463798, 0.01268245, 0.00302244,\n",
       "       0.00388378, 0.00215749, 0.00823203, 0.00220686, 0.00515624,\n",
       "       0.0083826 , 0.00678157, 0.00531443, 0.00137539, 0.00695257,\n",
       "       0.00622883, 0.00993915, 0.0062232 , 0.00172276, 0.0017243 ,\n",
       "       0.01535472, 0.01679538, 0.01179859, 0.00920563, 0.00696894,\n",
       "       0.00805003, 0.02049299, 0.00968924, 0.00567744, 0.00254749,\n",
       "       0.00762482, 0.00986116, 0.00721782, 0.00926004, 0.00944684,\n",
       "       0.00185337, 0.0021319 , 0.01531125, 0.0108887 , 0.00801097,\n",
       "       0.02348856, 0.01484268, 0.01233173, 0.02741906, 0.00725215,\n",
       "       0.00494445, 0.00187749, 0.18640456, 0.00569201, 0.01260302,\n",
       "       0.01614273, 0.01153012, 0.01461678, 0.01260138, 0.00523963,\n",
       "       0.0230462 , 0.01328302, 0.10955554, 0.00277768, 0.0029409 ,\n",
       "       0.00527774, 0.01669486, 0.00613762, 0.00728464, 0.00149605,\n",
       "       0.01124983, 0.01018368, 0.00548907, 0.00579674, 0.01417861,\n",
       "       0.00219189, 0.0184027 , 0.005885  ])"
      ]
     },
     "execution_count": 6,
     "metadata": {},
     "output_type": "execute_result"
    }
   ],
   "source": [
    "scaling_strength/scaling_strength.sum()"
   ]
  },
  {
   "cell_type": "code",
   "execution_count": 7,
   "metadata": {},
   "outputs": [
    {
     "data": {
      "text/plain": [
       "array([0.00294544, 0.0134518 , 0.00903423, 0.01148513, 0.00632024,\n",
       "       0.00621403, 0.00647339, 0.00213965, 0.00608238, 0.0065    ,\n",
       "       0.00189386, 0.0137903 , 0.01463798, 0.01268245, 0.00302244,\n",
       "       0.00388378, 0.00215749, 0.00823203, 0.00220686, 0.00515624,\n",
       "       0.0083826 , 0.00678157, 0.00531443, 0.00137539, 0.00695257,\n",
       "       0.00622883, 0.00993915, 0.0062232 , 0.00172276, 0.0017243 ,\n",
       "       0.01535472, 0.01679538, 0.01179859, 0.00920563, 0.00696894,\n",
       "       0.00805003, 0.02049299, 0.00968924, 0.00567744, 0.00254749,\n",
       "       0.00762482, 0.00986116, 0.00721782, 0.00926004, 0.00944684,\n",
       "       0.00185337, 0.0021319 , 0.01531125, 0.0108887 , 0.00801097,\n",
       "       0.02348856, 0.01484268, 0.01233173, 0.02741906, 0.00725215,\n",
       "       0.00494445, 0.00187749, 0.18640456, 0.00569201, 0.01260302,\n",
       "       0.01614273, 0.01153012, 0.01461678, 0.01260138, 0.00523963,\n",
       "       0.0230462 , 0.01328302, 0.10955554, 0.00277768, 0.0029409 ,\n",
       "       0.00527774, 0.01669486, 0.00613762, 0.00728464, 0.00149605,\n",
       "       0.01124983, 0.01018368, 0.00548907, 0.00579674, 0.01417861,\n",
       "       0.00219189, 0.0184027 , 0.005885  ])"
      ]
     },
     "execution_count": 7,
     "metadata": {},
     "output_type": "execute_result"
    }
   ],
   "source": [
    "ilsr_strength/ilsr_strength.sum()"
   ]
  },
  {
   "cell_type": "code",
   "execution_count": 8,
   "metadata": {},
   "outputs": [
    {
     "data": {
      "text/plain": [
       "array([ 2.37005034e-12,  1.53900261e-11,  1.02349101e-11,  1.50534810e-11,\n",
       "        4.89895017e-12,  6.96526604e-12,  7.05393469e-12,  2.42412731e-12,\n",
       "        7.27483178e-12,  7.46479441e-12,  9.53806977e-12,  1.50217443e-11,\n",
       "        1.61259651e-11,  1.41744550e-11,  3.32247511e-12,  5.88724859e-12,\n",
       "        2.93049959e-12,  9.33886822e-12,  2.33901700e-12,  5.41061987e-12,\n",
       "        9.69781547e-12,  7.76969981e-12,  5.93535984e-12,  1.58449924e-12,\n",
       "        7.75887254e-12,  7.37615698e-12,  2.65483625e-11,  9.45147172e-12,\n",
       "        2.04372435e-12,  1.92099960e-12,  1.66190429e-11,  1.79727795e-11,\n",
       "        1.40171451e-11,  1.03702880e-11,  7.72128542e-12,  7.86008585e-12,\n",
       "        2.28072977e-11,  1.09167241e-11,  6.22511157e-12,  3.13479537e-12,\n",
       "        8.55211475e-12,  1.08674632e-11,  8.51097318e-12,  1.03131722e-11,\n",
       "        1.06439198e-11,  2.12540727e-12,  2.44365856e-12,  1.67772810e-11,\n",
       "        1.24307023e-11,  1.00998983e-11,  2.57264383e-11,  1.61035560e-11,\n",
       "        1.36630637e-11,  2.99249237e-11,  8.17874414e-12,  5.76062722e-12,\n",
       "        2.13819067e-12, -5.82323578e-10,  6.32864854e-12,  1.48010146e-11,\n",
       "        1.87305380e-11,  1.30468449e-11,  1.60802639e-11,  1.25812555e-11,\n",
       "        8.50251120e-12,  2.48639755e-11,  1.50736749e-11, -2.37467171e-10,\n",
       "        1.26260408e-11,  3.32924617e-12,  5.90503254e-12,  1.66482383e-11,\n",
       "        6.90370070e-12,  8.27442021e-12,  1.69080548e-12,  1.29728485e-11,\n",
       "        1.15588060e-11,  6.12018682e-12,  6.90767062e-12,  8.39234932e-12,\n",
       "        6.24549284e-12,  2.02012851e-11,  6.79492920e-12])"
      ]
     },
     "execution_count": 8,
     "metadata": {},
     "output_type": "execute_result"
    }
   ],
   "source": [
    "scaling_strength/scaling_strength.sum() - ilsr_strength/ilsr_strength.sum()"
   ]
  },
  {
   "cell_type": "code",
   "execution_count": null,
   "metadata": {
    "collapsed": true
   },
   "outputs": [],
   "source": []
  },
  {
   "cell_type": "code",
   "execution_count": null,
   "metadata": {
    "collapsed": true
   },
   "outputs": [],
   "source": []
  }
 ],
 "metadata": {
  "kernelspec": {
   "display_name": "Python 3",
   "language": "python",
   "name": "python3"
  },
  "language_info": {
   "codemirror_mode": {
    "name": "ipython",
    "version": 3
   },
   "file_extension": ".py",
   "mimetype": "text/x-python",
   "name": "python",
   "nbconvert_exporter": "python",
   "pygments_lexer": "ipython3",
   "version": "3.6.1"
  }
 },
 "nbformat": 4,
 "nbformat_minor": 2
}
