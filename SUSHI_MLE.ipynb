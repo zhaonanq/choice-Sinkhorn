{
 "cells": [
  {
   "cell_type": "code",
   "execution_count": 2,
   "metadata": {},
   "outputs": [],
   "source": [
    "import matplotlib.pyplot as plt\n",
    "import numpy as np\n",
    "import pandas as pd\n",
    "import time\n",
    "\n",
    "# import the two classes containing the algorithms\n",
    "import scaling\n",
    "import inference"
   ]
  },
  {
   "cell_type": "code",
   "execution_count": 3,
   "metadata": {
    "scrolled": true
   },
   "outputs": [],
   "source": [
    "# generate ranking data from SUSHI-10 dataset\n",
    "# note that in the data the first column denotes the number of times\n",
    "# such rankings are recorded\n",
    "\n",
    "data = np.loadtxt('sushi.txt',delimiter = ',')\n",
    "data = data.astype(int)\n",
    "nb_items = 10\n",
    "rankings = ()\n",
    "num_rankings = np.sum(data[:,0])\n",
    "for i in range(data.shape[0]):\n",
    "    for j in range(int(data[i,0])):\n",
    "        ranking = tuple(data[i,1:]-1)\n",
    "        rankings = rankings + (ranking,)"
   ]
  },
  {
   "cell_type": "code",
   "execution_count": 4,
   "metadata": {},
   "outputs": [
    {
     "data": {
      "text/plain": [
       "array([[ 3,  7,  4, ...,  3,  9,  6],\n",
       "       [ 3,  4,  5, ...,  1,  6,  9],\n",
       "       [ 3,  4,  5, ...,  8,  6,  9],\n",
       "       ...,\n",
       "       [ 1, 10,  3, ...,  1,  7,  4],\n",
       "       [ 1,  5,  6, ...,  9, 10,  3],\n",
       "       [ 1,  2, 10, ...,  7,  5,  4]])"
      ]
     },
     "execution_count": 4,
     "metadata": {},
     "output_type": "execute_result"
    }
   ],
   "source": [
    "data"
   ]
  },
  {
   "cell_type": "code",
   "execution_count": 50,
   "metadata": {},
   "outputs": [
    {
     "data": {
      "text/plain": [
       "5000"
      ]
     },
     "execution_count": 50,
     "metadata": {},
     "output_type": "execute_result"
    }
   ],
   "source": [
    "num_rankings"
   ]
  },
  {
   "cell_type": "code",
   "execution_count": 7,
   "metadata": {},
   "outputs": [
    {
     "name": "stdout",
     "output_type": "stream",
     "text": [
      "Scaling algorithm converged in  16 iterations and took  0.025513887405395508 seconds.\n",
      "Iterative LSR algorithm converged in  8 iterations and took  1.7084746360778809 seconds.\n"
     ]
    }
   ],
   "source": [
    "# generate comparison matrix and winning count\n",
    "A, p = scaling.ranking_to_choice(nb_items,rankings)\n",
    "\n",
    "# MLE with scaling algorithm\n",
    "start = time.time()\n",
    "scaling_strength, scaled_A, iterations = scaling.iterative_scaling(A,p)\n",
    "end = time.time()\n",
    "print('Scaling algorithm converged in ',iterations, 'iterations and took ',end-start,'seconds.')\n",
    "\n",
    "# MLE with iterative LSR algorithm\n",
    "start = time.time()\n",
    "ilsr_strength, iterations = inference.ilsr(nb_items,rankings)\n",
    "end = time.time()\n",
    "print('Iterative LSR algorithm converged in ',iterations, 'iterations and took ',end-start,'seconds.')"
   ]
  },
  {
   "cell_type": "code",
   "execution_count": 52,
   "metadata": {
    "scrolled": true
   },
   "outputs": [
    {
     "data": {
      "text/plain": [
       "array([ 4.16333634e-16,  5.55111512e-17,  4.71844785e-16,  5.68989300e-16,\n",
       "        6.93889390e-17, -1.11022302e-16,  2.08166817e-16,  6.93889390e-17,\n",
       "        3.12250226e-15, -1.92901251e-15])"
      ]
     },
     "execution_count": 52,
     "metadata": {},
     "output_type": "execute_result"
    }
   ],
   "source": [
    "(m,n) = scaled_A.shape\n",
    "uniform = np.ones(m)/m\n",
    "np.dot(scaled_A.T,uniform)-p"
   ]
  },
  {
   "cell_type": "code",
   "execution_count": 53,
   "metadata": {},
   "outputs": [
    {
     "data": {
      "text/plain": [
       "array([1., 1., 1., ..., 1., 1., 1.])"
      ]
     },
     "execution_count": 53,
     "metadata": {},
     "output_type": "execute_result"
    }
   ],
   "source": [
    "np.sum(scaled_A,axis=1)"
   ]
  },
  {
   "cell_type": "code",
   "execution_count": 54,
   "metadata": {},
   "outputs": [
    {
     "data": {
      "text/plain": [
       "array([0.09145086, 0.14217679, 0.07710968, 0.06844782, 0.0939343 ,\n",
       "       0.0509258 , 0.24495368, 0.0858835 , 0.03418853, 0.11092903])"
      ]
     },
     "execution_count": 54,
     "metadata": {},
     "output_type": "execute_result"
    }
   ],
   "source": [
    "scaling_strength/scaling_strength.sum()"
   ]
  },
  {
   "cell_type": "code",
   "execution_count": 55,
   "metadata": {},
   "outputs": [
    {
     "data": {
      "text/plain": [
       "array([0.09145086, 0.14217679, 0.07710968, 0.06844782, 0.0939343 ,\n",
       "       0.0509258 , 0.24495368, 0.0858835 , 0.03418853, 0.11092903])"
      ]
     },
     "execution_count": 55,
     "metadata": {},
     "output_type": "execute_result"
    }
   ],
   "source": [
    "ilsr_strength/ilsr_strength.sum()"
   ]
  },
  {
   "cell_type": "code",
   "execution_count": 56,
   "metadata": {},
   "outputs": [
    {
     "data": {
      "text/plain": [
       "array([ 1.46329310e-10, -9.73536807e-11,  1.28157970e-10,  1.00436021e-10,\n",
       "        9.44645334e-11,  1.24134994e-10, -7.72017672e-10,  7.36832817e-11,\n",
       "        7.79478149e-11,  1.24217539e-10])"
      ]
     },
     "execution_count": 56,
     "metadata": {},
     "output_type": "execute_result"
    }
   ],
   "source": [
    "scaling_strength/scaling_strength.sum() - ilsr_strength/ilsr_strength.sum()"
   ]
  },
  {
   "cell_type": "code",
   "execution_count": null,
   "metadata": {},
   "outputs": [],
   "source": []
  }
 ],
 "metadata": {
  "kernelspec": {
   "display_name": "Python 3",
   "language": "python",
   "name": "python3"
  },
  "language_info": {
   "codemirror_mode": {
    "name": "ipython",
    "version": 3
   },
   "file_extension": ".py",
   "mimetype": "text/x-python",
   "name": "python",
   "nbconvert_exporter": "python",
   "pygments_lexer": "ipython3",
   "version": "3.6.3"
  }
 },
 "nbformat": 4,
 "nbformat_minor": 2
}
