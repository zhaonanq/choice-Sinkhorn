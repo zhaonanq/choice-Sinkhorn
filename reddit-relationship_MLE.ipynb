{
 "cells": [
  {
   "cell_type": "code",
   "execution_count": 1,
   "metadata": {
    "collapsed": true
   },
   "outputs": [],
   "source": [
    "import matplotlib.pyplot as plt\n",
    "import numpy as np\n",
    "import pandas as pd\n",
    "import time\n",
    "\n",
    "# import the two classes containing the algorithms\n",
    "import scaling\n",
    "import inference"
   ]
  },
  {
   "cell_type": "code",
   "execution_count": 2,
   "metadata": {},
   "outputs": [
    {
     "data": {
      "text/plain": [
       "array([[0., 0., 0., ..., 0., 0., 0.],\n",
       "       [0., 0., 0., ..., 0., 0., 0.],\n",
       "       [0., 0., 0., ..., 0., 0., 0.],\n",
       "       ...,\n",
       "       [0., 0., 0., ..., 1., 0., 0.],\n",
       "       [0., 0., 0., ..., 1., 0., 0.],\n",
       "       [0., 0., 0., ..., 1., 0., 0.]])"
      ]
     },
     "execution_count": 2,
     "metadata": {},
     "output_type": "execute_result"
    }
   ],
   "source": [
    "A, p = np.load('matA.npy',allow_pickle=True)\n",
    "A"
   ]
  },
  {
   "cell_type": "code",
   "execution_count": 3,
   "metadata": {},
   "outputs": [
    {
     "data": {
      "text/plain": [
       "array([4.37886800e-03, 1.89333912e-03, 1.02173587e-02, 1.00088411e-02,\n",
       "       5.81346856e-03, 7.28977263e-03, 1.81743874e-02, 1.23192153e-02,\n",
       "       1.84079270e-02, 4.51231922e-03, 9.25817806e-03, 1.77656930e-03,\n",
       "       2.07683454e-03, 1.91836122e-03, 2.23530786e-03, 1.14517824e-02,\n",
       "       1.03424692e-02, 2.63899778e-02, 1.45962267e-02, 3.58650141e-03,\n",
       "       6.00530469e-04, 2.65234290e-03, 1.20940164e-03, 2.93592674e-03,\n",
       "       3.06937795e-03, 3.59484211e-03, 2.64400220e-03, 1.26528433e-02,\n",
       "       9.59180610e-04, 1.02006773e-02, 1.65562914e-02, 1.01589738e-02,\n",
       "       2.59395800e-03, 6.75596777e-03, 2.98597094e-03, 6.08871170e-04,\n",
       "       2.01010893e-03, 2.11186548e-02, 6.61417586e-03, 4.75419954e-04,\n",
       "       5.75508366e-03, 1.01172703e-02, 5.67167665e-04, 1.49715582e-02,\n",
       "       5.15455319e-03, 1.76072197e-02, 4.24891988e-01, 3.97851435e-03,\n",
       "       3.56147931e-03, 3.01432932e-02, 4.75419954e-04, 1.95172402e-03,\n",
       "       5.51236926e-02, 1.25277328e-02, 2.69738269e-02, 8.09047992e-04,\n",
       "       5.83014997e-03, 1.37621566e-03, 5.75508366e-04, 1.10097253e-03,\n",
       "       4.35384590e-03, 1.18271140e-02, 6.50574674e-03, 4.08694347e-04,\n",
       "       6.92278179e-04, 1.60975528e-03, 7.33981684e-04, 7.25640983e-04,\n",
       "       2.84417902e-03, 4.32882379e-03, 6.08871170e-04, 4.97939847e-03,\n",
       "       5.08782758e-03, 2.01427928e-02, 5.88019417e-03, 2.48552888e-03,\n",
       "       3.85340384e-03, 8.43244866e-03, 3.96183295e-03])"
      ]
     },
     "execution_count": 3,
     "metadata": {},
     "output_type": "execute_result"
    }
   ],
   "source": [
    "p = np.squeeze(p)\n",
    "p = p/np.sum(p)\n",
    "p"
   ]
  },
  {
   "cell_type": "code",
   "execution_count": 44,
   "metadata": {},
   "outputs": [
    {
     "name": "stdout",
     "output_type": "stream",
     "text": [
      "Scaling algorithm converged in  158 iterations and took  2.2817628383636475 seconds.\n"
     ]
    }
   ],
   "source": [
    "# MLE with scaling algorithm\n",
    "start = time.time()\n",
    "#A, p = scaling.ranking_to_choice(nb_items,rankings)\n",
    "scaling_strength, scaled_A, iterations,_ = scaling.iterative_scaling(A,p)\n",
    "end = time.time()\n",
    "print('Scaling algorithm converged in ',iterations, 'iterations and took ',end-start,'seconds.')"
   ]
  },
  {
   "cell_type": "code",
   "execution_count": 45,
   "metadata": {
    "scrolled": true
   },
   "outputs": [
    {
     "data": {
      "text/plain": [
       "array([3.49139120e-14, 1.51144288e-14, 8.16915979e-14, 7.97209521e-14,\n",
       "       4.63457397e-14, 5.81600740e-14, 1.44471241e-13, 9.83189224e-14,\n",
       "       1.46733320e-13, 3.60371455e-14, 7.38940159e-14, 1.41750760e-14,\n",
       "       1.65674766e-14, 1.53087178e-14, 1.78494372e-14, 9.13470688e-14,\n",
       "       8.25797764e-14, 2.10571144e-13, 1.16517906e-13, 2.86264068e-14,\n",
       "       4.79282412e-15, 2.11740347e-14, 9.65026670e-15, 2.34274405e-14,\n",
       "       2.45055712e-14, 2.86736780e-14, 2.10864312e-14, 1.00771821e-13,\n",
       "       7.65414208e-15, 8.13168977e-14, 1.32165112e-13, 8.11642420e-14,\n",
       "       2.07043584e-14, 5.39160730e-14, 2.38181870e-14, 4.85971940e-15,\n",
       "       1.60466258e-14, 1.68337566e-13, 5.27876354e-14, 3.79432813e-15,\n",
       "       4.59337429e-14, 8.07322958e-14, 4.52665249e-15, 1.19381935e-13,\n",
       "       4.11519777e-14, 1.40432804e-13, 3.42187390e-12, 3.17584500e-14,\n",
       "       2.83943875e-14, 2.40751863e-13, 3.79524970e-15, 1.55767326e-14,\n",
       "       4.42812453e-13, 1.00194159e-13, 2.15962664e-13, 6.45750814e-15,\n",
       "       4.65053343e-14, 1.09825343e-14, 4.59278882e-15, 8.78724177e-15,\n",
       "       3.47777362e-14, 9.41816070e-14, 5.19558355e-14, 3.26209329e-15,\n",
       "       5.52444375e-15, 1.28569030e-14, 5.86173905e-15, 5.79126590e-15,\n",
       "       2.26997240e-14, 3.45262013e-14, 4.85982782e-15, 3.96922079e-14,\n",
       "       4.06029377e-14, 1.60840091e-13, 4.69294742e-14, 1.98395987e-14,\n",
       "       3.06989677e-14, 6.71320638e-14, 3.16248763e-14])"
      ]
     },
     "execution_count": 45,
     "metadata": {},
     "output_type": "execute_result"
    }
   ],
   "source": [
    "(m,n) = scaled_A.shape\n",
    "uniform = np.ones(m)/m\n",
    "np.dot(scaled_A.T,uniform)-p"
   ]
  },
  {
   "cell_type": "code",
   "execution_count": 46,
   "metadata": {},
   "outputs": [
    {
     "data": {
      "text/plain": [
       "array([1., 1., 1., ..., 1., 1., 1.])"
      ]
     },
     "execution_count": 46,
     "metadata": {},
     "output_type": "execute_result"
    }
   ],
   "source": [
    "np.sum(scaled_A,axis=1)"
   ]
  },
  {
   "cell_type": "code",
   "execution_count": 47,
   "metadata": {
    "collapsed": true,
    "scrolled": true
   },
   "outputs": [],
   "source": [
    "strength = scaling_strength/scaling_strength.sum()"
   ]
  },
  {
   "cell_type": "code",
   "execution_count": 48,
   "metadata": {},
   "outputs": [
    {
     "data": {
      "text/plain": [
       "array([0.00790127, 0.00945408, 0.01057957, 0.01572598, 0.00738477,\n",
       "       0.01531757, 0.0252985 , 0.01024566, 0.00671597, 0.00782159,\n",
       "       0.00984616, 0.03399052, 0.022052  , 0.03983143, 0.0041686 ,\n",
       "       0.01479429, 0.01153146, 0.00840099, 0.03970201, 0.00722172,\n",
       "       0.00815116, 0.02014438, 0.00609883, 0.02647825, 0.02743074,\n",
       "       0.01442736, 0.00477104, 0.02707355, 0.01048114, 0.01343148,\n",
       "       0.01349006, 0.02321892, 0.00413916, 0.01018591, 0.01649368,\n",
       "       0.00242822, 0.01031754, 0.03175474, 0.00995239, 0.0056048 ,\n",
       "       0.01026359, 0.01153496, 0.00649525, 0.01348242, 0.00606789,\n",
       "       0.00644929, 0.01624875, 0.02564724, 0.0306389 , 0.01031583,\n",
       "       0.00381287, 0.00415342, 0.00576941, 0.00378675, 0.0048701 ,\n",
       "       0.00653051, 0.01681789, 0.00728466, 0.0054519 , 0.00536414,\n",
       "       0.00535652, 0.00839096, 0.00926259, 0.0038812 , 0.01103616,\n",
       "       0.00356548, 0.00051624, 0.02152253, 0.01633869, 0.02507931,\n",
       "       0.01207357, 0.00241413, 0.0063789 , 0.01868218, 0.01171536,\n",
       "       0.00609401, 0.02384702, 0.01295976, 0.00584209])"
      ]
     },
     "execution_count": 48,
     "metadata": {},
     "output_type": "execute_result"
    }
   ],
   "source": [
    "strength"
   ]
  },
  {
   "cell_type": "code",
   "execution_count": 49,
   "metadata": {
    "collapsed": true
   },
   "outputs": [],
   "source": [
    "policies = ['pretrain_3b',\n",
    " 'sup4_6b_t.5',\n",
    " 'sup4_6b',\n",
    " 'sup4_bo128_rm3',\n",
    " 'sup4_12b_t0.7',\n",
    " 'sup4_bo64_rm3',\n",
    " 'sup4_6b_ppo_rm3_6b_kl15',\n",
    " 'sup4_ppo_rm3',\n",
    " 'pretrain_12b_t.5',\n",
    " 'pretrain_12b',\n",
    " 'sup4_ppo_rm3_kl2',\n",
    " 'sup4_6b_ppo_rm4_6b_t.7',\n",
    " 'sup4_bo256_rm3_6b',\n",
    " 'sup4_6b_ppo_rm4_6b_t.5',\n",
    " 'pretrain_xl',\n",
    " 'sup4_ppo_rm3_kl22',\n",
    " 'sup4_ppo_rm3_kl6',\n",
    " 'sup3_6b',\n",
    " 'sup4_6b_ppo_rm4_6b',\n",
    " 'sup4_xl_bo64_rouge',\n",
    " 'sup4_xl_bo16_rm4',\n",
    " 'sup4_bo128_rm3_6b',\n",
    " 'sup4_6b_p.9',\n",
    " 'sup4_xl_bo128_rm4_6b',\n",
    " 'sup4_xl_bo1024_rm4',\n",
    " 'sup4_xl_bo64_rm4',\n",
    " 'sup4_xl_bo512_rouge',\n",
    " 'sup4_ppo_rm4',\n",
    " 'sup4_xl_bo8_rm4',\n",
    " 'sup4_ppo_rm3_kl10',\n",
    " 'sup3_bo8_rm2',\n",
    " 'sup3_bo63_rm2',\n",
    " 'pretrain_6b_t.7',\n",
    " 'sup4_3b',\n",
    " 'sup4_xl_bo128_rm4',\n",
    " 'sup4_6b_t1',\n",
    " 'sup4_6b_t.3',\n",
    " 'sup4_6b_ppo_rm4_6b_kl14',\n",
    " 'sup4',\n",
    " 'sup4_xl_bo2_rm4_6b',\n",
    " 'sup4_ppo_rm3_kl20',\n",
    " 'sup4_ppo_rm3_kl69',\n",
    " 'sup4_xl_bo2_rm4',\n",
    " 'sup4_ppo_rm3_kl9',\n",
    " 'sup3',\n",
    " 'sup4_6b_t0.7',\n",
    " 'ref',\n",
    " 'sup4_xl_bo64_rm4_6b',\n",
    " 'sup4_xl_bo1024_rm4_6b',\n",
    " 'sup2_bo8_rm1',\n",
    " 'sup4_xl_bo2_rouge',\n",
    " 'sup4_xl_bo1024_rouge',\n",
    " 'sup2',\n",
    " 'sup1',\n",
    " 'sup4_t0.7',\n",
    " 'sup4_xl_bo8_rouge',\n",
    " 'sup4_bo256_rm3',\n",
    " 'sup4_6b_p.7',\n",
    " 'sup4_xl_bo2_rm3',\n",
    " 'sup4_6b_p.8',\n",
    " 'sup4_3b_t0.7',\n",
    " 'sup3_ppo_rm1',\n",
    " 'sup4_bo8_rm3',\n",
    " 'sup4_xl_bo16_rouge',\n",
    " 'sup4_xl_bo16_rm3',\n",
    " 'sup4_6b_p.95',\n",
    " 'sup4_ppo_rm3_kl260',\n",
    " 'sup4_xl_bo16_rm4_6b',\n",
    " 'sup4_xl_bo1024_rm3',\n",
    " 'sup4_xl_bo512_rm4_6b',\n",
    " 'sup4_xl_bo8_rm4_6b',\n",
    " 'pretrain_xl_t.7',\n",
    " 'title',\n",
    " 'sup4_ppo_rm4_t.7',\n",
    " 'sup4_bo512_rm3',\n",
    " 'sup4_xl_bo128_rouge',\n",
    " 'sup4_xl_bo512_rm4',\n",
    " 'sup4_12b',\n",
    " 'pretrain_6b']"
   ]
  },
  {
   "cell_type": "code",
   "execution_count": 53,
   "metadata": {},
   "outputs": [
    {
     "data": {
      "text/plain": [
       "'sup4_6b_ppo_rm4_6b_t.5'"
      ]
     },
     "execution_count": 53,
     "metadata": {},
     "output_type": "execute_result"
    }
   ],
   "source": [
    "policies[np.argmax(strength)]"
   ]
  },
  {
   "cell_type": "code",
   "execution_count": 52,
   "metadata": {},
   "outputs": [
    {
     "data": {
      "text/plain": [
       "['sup4_6b_ppo_rm4_6b_t.5',\n",
       " 'sup4_6b_ppo_rm4_6b',\n",
       " 'sup4_6b_ppo_rm4_6b_t.7',\n",
       " 'sup4_6b_ppo_rm4_6b_kl14',\n",
       " 'sup4_xl_bo1024_rm4_6b',\n",
       " 'sup4_xl_bo1024_rm4',\n",
       " 'sup4_ppo_rm4',\n",
       " 'sup4_xl_bo128_rm4_6b',\n",
       " 'sup4_xl_bo64_rm4_6b',\n",
       " 'sup4_6b_ppo_rm3_6b_kl15',\n",
       " 'sup4_xl_bo512_rm4_6b',\n",
       " 'sup4_xl_bo512_rm4',\n",
       " 'sup3_bo63_rm2',\n",
       " 'sup4_bo256_rm3_6b',\n",
       " 'sup4_xl_bo16_rm4_6b',\n",
       " 'sup4_bo128_rm3_6b',\n",
       " 'sup4_ppo_rm4_t.7',\n",
       " 'sup4_bo256_rm3',\n",
       " 'sup4_xl_bo128_rm4',\n",
       " 'sup4_xl_bo1024_rm3',\n",
       " 'ref',\n",
       " 'sup4_bo128_rm3',\n",
       " 'sup4_bo64_rm3',\n",
       " 'sup4_ppo_rm3_kl22',\n",
       " 'sup4_xl_bo64_rm4',\n",
       " 'sup3_bo8_rm2',\n",
       " 'sup4_ppo_rm3_kl9',\n",
       " 'sup4_ppo_rm3_kl10',\n",
       " 'sup4_12b',\n",
       " 'sup4_xl_bo8_rm4_6b',\n",
       " 'sup4_bo512_rm3',\n",
       " 'sup4_ppo_rm3_kl69',\n",
       " 'sup4_ppo_rm3_kl6',\n",
       " 'sup4_xl_bo16_rm3',\n",
       " 'sup4_6b',\n",
       " 'sup4_xl_bo8_rm4',\n",
       " 'sup4_6b_t.3',\n",
       " 'sup2_bo8_rm1',\n",
       " 'sup4_ppo_rm3_kl20',\n",
       " 'sup4_ppo_rm3',\n",
       " 'sup4_3b',\n",
       " 'sup4',\n",
       " 'sup4_ppo_rm3_kl2',\n",
       " 'sup4_6b_t.5',\n",
       " 'sup4_bo8_rm3',\n",
       " 'sup3_6b',\n",
       " 'sup3_ppo_rm1',\n",
       " 'sup4_xl_bo16_rm4',\n",
       " 'pretrain_3b',\n",
       " 'pretrain_12b',\n",
       " 'sup4_12b_t0.7',\n",
       " 'sup4_6b_p.7',\n",
       " 'sup4_xl_bo64_rouge',\n",
       " 'pretrain_12b_t.5',\n",
       " 'sup4_xl_bo8_rouge',\n",
       " 'sup4_xl_bo2_rm4',\n",
       " 'sup4_6b_t0.7',\n",
       " 'title',\n",
       " 'sup4_6b_p.9',\n",
       " 'sup4_xl_bo128_rouge',\n",
       " 'sup3',\n",
       " 'pretrain_6b',\n",
       " 'sup2',\n",
       " 'sup4_xl_bo2_rm4_6b',\n",
       " 'sup4_xl_bo2_rm3',\n",
       " 'sup4_6b_p.8',\n",
       " 'sup4_3b_t0.7',\n",
       " 'sup4_t0.7',\n",
       " 'sup4_xl_bo512_rouge',\n",
       " 'pretrain_xl',\n",
       " 'sup4_xl_bo1024_rouge',\n",
       " 'pretrain_6b_t.7',\n",
       " 'sup4_xl_bo16_rouge',\n",
       " 'sup4_xl_bo2_rouge',\n",
       " 'sup1',\n",
       " 'sup4_6b_p.95',\n",
       " 'sup4_6b_t1',\n",
       " 'pretrain_xl_t.7',\n",
       " 'sup4_ppo_rm3_kl260']"
      ]
     },
     "execution_count": 52,
     "metadata": {},
     "output_type": "execute_result"
    }
   ],
   "source": [
    "[x for _, x in sorted(zip(strength, policies),reverse=True)]"
   ]
  },
  {
   "cell_type": "code",
   "execution_count": null,
   "metadata": {
    "collapsed": true
   },
   "outputs": [],
   "source": []
  }
 ],
 "metadata": {
  "kernelspec": {
   "display_name": "Python 3",
   "language": "python",
   "name": "python3"
  },
  "language_info": {
   "codemirror_mode": {
    "name": "ipython",
    "version": 3
   },
   "file_extension": ".py",
   "mimetype": "text/x-python",
   "name": "python",
   "nbconvert_exporter": "python",
   "pygments_lexer": "ipython3",
   "version": "3.6.1"
  }
 },
 "nbformat": 4,
 "nbformat_minor": 2
}
